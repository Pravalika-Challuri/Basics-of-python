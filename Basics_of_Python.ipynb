{
  "nbformat": 4,
  "nbformat_minor": 0,
  "metadata": {
    "colab": {
      "provenance": [],
      "authorship_tag": "ABX9TyOjd5OQHrCvI6BUG1hWHiNM",
      "include_colab_link": true
    },
    "kernelspec": {
      "name": "python3",
      "display_name": "Python 3"
    },
    "language_info": {
      "name": "python"
    }
  },
  "cells": [
    {
      "cell_type": "markdown",
      "metadata": {
        "id": "view-in-github",
        "colab_type": "text"
      },
      "source": [
        "<a href=\"https://colab.research.google.com/github/Pravalika-Challuri/Basics-of-python/blob/main/Basics_of_Python.ipynb\" target=\"_parent\"><img src=\"https://colab.research.google.com/assets/colab-badge.svg\" alt=\"Open In Colab\"/></a>"
      ]
    },
    {
      "cell_type": "code",
      "execution_count": null,
      "metadata": {
        "id": "D36D_MySsQuA"
      },
      "outputs": [],
      "source": []
    },
    {
      "cell_type": "markdown",
      "source": [
        "Check whether the given number is prime or not"
      ],
      "metadata": {
        "id": "U4LXEB6vs0il"
      }
    },
    {
      "cell_type": "code",
      "source": [
        "def is_prime(num):\n",
        "    if num <=1:\n",
        "        return False\n",
        "        for i in range(2,int(num**0.5)+1):\n",
        "            if num % i==0:\n",
        "                return False\n",
        "                return True\n",
        "number=int(input(\"Enter the number:\"))\n",
        "if is_prime(number):\n",
        "    print(f\"{number}is a prime number.\")\n",
        "else:\n",
        "     print(f\"{number}not a prime number.\")"
      ],
      "metadata": {
        "colab": {
          "base_uri": "https://localhost:8080/"
        },
        "id": "UJGbwhoftPow",
        "outputId": "5d243c0d-4e85-45d1-d564-72c1731d2724"
      },
      "execution_count": null,
      "outputs": [
        {
          "output_type": "stream",
          "name": "stdout",
          "text": [
            "Enter the number:2\n",
            "2not a prime number.\n"
          ]
        }
      ]
    },
    {
      "cell_type": "code",
      "source": [],
      "metadata": {
        "id": "17gSwOmau5zI"
      },
      "execution_count": null,
      "outputs": []
    },
    {
      "cell_type": "markdown",
      "source": [
        "product of random number\n"
      ],
      "metadata": {
        "id": "4DtTtb9v0Uw9"
      }
    },
    {
      "cell_type": "code",
      "source": [
        "import random\n",
        "def ask_for_product():\n",
        "  num1=random.randint(1,10)\n",
        "  num2=random.randint(1,10)\n",
        "  correct_answer=num1 * num2\n",
        "  user_answer=int(input(f\"What is the product of {num1} and {num2}?\"))\n",
        "  if user_answer==correct_answer:\n",
        "        print(\"correct! well done.\")\n",
        "  else:\n",
        "        print(f\"incorrect.The correct answer is{correct_answer}.\")\n",
        "ask_for_product()\n"
      ],
      "metadata": {
        "colab": {
          "base_uri": "https://localhost:8080/"
        },
        "id": "-9uTLr7C0bOo",
        "outputId": "3ecdfc3a-e7bb-417d-bdd0-f13f14086839"
      },
      "execution_count": null,
      "outputs": [
        {
          "output_type": "stream",
          "name": "stdout",
          "text": [
            "What is the product of 7 and 4?28\n",
            "correct! well done.\n"
          ]
        }
      ]
    },
    {
      "cell_type": "code",
      "source": [],
      "metadata": {
        "id": "air36pp06igo"
      },
      "execution_count": null,
      "outputs": []
    },
    {
      "cell_type": "markdown",
      "source": [
        "squares of even or odd numbers"
      ],
      "metadata": {
        "id": "gt0e4yfzAha4"
      }
    },
    {
      "cell_type": "code",
      "source": [
        "print(\"printing the square numbers between 100 and 200:\")\n",
        "for number in range(100,201):\n",
        "  if number%2==0:\n",
        "    square=number**2\n",
        "  print(f\"the square of {number} is {square}\")"
      ],
      "metadata": {
        "colab": {
          "base_uri": "https://localhost:8080/"
        },
        "id": "PChbZsJLAo8t",
        "outputId": "f42c3993-fe33-41cc-adab-b05e270e8201"
      },
      "execution_count": null,
      "outputs": [
        {
          "output_type": "stream",
          "name": "stdout",
          "text": [
            "printing the square numbers between 100 and 200:\n",
            "the square of 100 is 10000\n",
            "the square of 101 is 10000\n",
            "the square of 102 is 10404\n",
            "the square of 103 is 10404\n",
            "the square of 104 is 10816\n",
            "the square of 105 is 10816\n",
            "the square of 106 is 11236\n",
            "the square of 107 is 11236\n",
            "the square of 108 is 11664\n",
            "the square of 109 is 11664\n",
            "the square of 110 is 12100\n",
            "the square of 111 is 12100\n",
            "the square of 112 is 12544\n",
            "the square of 113 is 12544\n",
            "the square of 114 is 12996\n",
            "the square of 115 is 12996\n",
            "the square of 116 is 13456\n",
            "the square of 117 is 13456\n",
            "the square of 118 is 13924\n",
            "the square of 119 is 13924\n",
            "the square of 120 is 14400\n",
            "the square of 121 is 14400\n",
            "the square of 122 is 14884\n",
            "the square of 123 is 14884\n",
            "the square of 124 is 15376\n",
            "the square of 125 is 15376\n",
            "the square of 126 is 15876\n",
            "the square of 127 is 15876\n",
            "the square of 128 is 16384\n",
            "the square of 129 is 16384\n",
            "the square of 130 is 16900\n",
            "the square of 131 is 16900\n",
            "the square of 132 is 17424\n",
            "the square of 133 is 17424\n",
            "the square of 134 is 17956\n",
            "the square of 135 is 17956\n",
            "the square of 136 is 18496\n",
            "the square of 137 is 18496\n",
            "the square of 138 is 19044\n",
            "the square of 139 is 19044\n",
            "the square of 140 is 19600\n",
            "the square of 141 is 19600\n",
            "the square of 142 is 20164\n",
            "the square of 143 is 20164\n",
            "the square of 144 is 20736\n",
            "the square of 145 is 20736\n",
            "the square of 146 is 21316\n",
            "the square of 147 is 21316\n",
            "the square of 148 is 21904\n",
            "the square of 149 is 21904\n",
            "the square of 150 is 22500\n",
            "the square of 151 is 22500\n",
            "the square of 152 is 23104\n",
            "the square of 153 is 23104\n",
            "the square of 154 is 23716\n",
            "the square of 155 is 23716\n",
            "the square of 156 is 24336\n",
            "the square of 157 is 24336\n",
            "the square of 158 is 24964\n",
            "the square of 159 is 24964\n",
            "the square of 160 is 25600\n",
            "the square of 161 is 25600\n",
            "the square of 162 is 26244\n",
            "the square of 163 is 26244\n",
            "the square of 164 is 26896\n",
            "the square of 165 is 26896\n",
            "the square of 166 is 27556\n",
            "the square of 167 is 27556\n",
            "the square of 168 is 28224\n",
            "the square of 169 is 28224\n",
            "the square of 170 is 28900\n",
            "the square of 171 is 28900\n",
            "the square of 172 is 29584\n",
            "the square of 173 is 29584\n",
            "the square of 174 is 30276\n",
            "the square of 175 is 30276\n",
            "the square of 176 is 30976\n",
            "the square of 177 is 30976\n",
            "the square of 178 is 31684\n",
            "the square of 179 is 31684\n",
            "the square of 180 is 32400\n",
            "the square of 181 is 32400\n",
            "the square of 182 is 33124\n",
            "the square of 183 is 33124\n",
            "the square of 184 is 33856\n",
            "the square of 185 is 33856\n",
            "the square of 186 is 34596\n",
            "the square of 187 is 34596\n",
            "the square of 188 is 35344\n",
            "the square of 189 is 35344\n",
            "the square of 190 is 36100\n",
            "the square of 191 is 36100\n",
            "the square of 192 is 36864\n",
            "the square of 193 is 36864\n",
            "the square of 194 is 37636\n",
            "the square of 195 is 37636\n",
            "the square of 196 is 38416\n",
            "the square of 197 is 38416\n",
            "the square of 198 is 39204\n",
            "the square of 199 is 39204\n",
            "the square of 200 is 40000\n"
          ]
        }
      ]
    },
    {
      "cell_type": "markdown",
      "source": [
        "word counter"
      ],
      "metadata": {
        "id": "_nHO3KjACWsy"
      }
    },
    {
      "cell_type": "code",
      "source": [
        "def count_word(input_text):\n",
        "  words=input_text.lower().split()\n",
        "  word_count={}\n",
        "  for word in words:\n",
        "    word=word.strip(\".,!?;:\")\n",
        "    if word in word_count:\n",
        "      word_count[word]+=1\n",
        "    else:\n",
        "        word_count[word]=1\n",
        "  for word,count in word_count.items():\n",
        "        print(f\"'{word}':{count}\")\n",
        "  input_text=\"This is a sample text.This text is used to demonstrate  word counter.\"\n",
        "  count_word(input_text)\n",
        "\n",
        "\n"
      ],
      "metadata": {
        "id": "KEzqa2rgBNln"
      },
      "execution_count": null,
      "outputs": []
    },
    {
      "cell_type": "code",
      "source": [],
      "metadata": {
        "id": "6XXlE2DGCbcl"
      },
      "execution_count": null,
      "outputs": []
    },
    {
      "cell_type": "markdown",
      "source": [
        "check for palindrome"
      ],
      "metadata": {
        "id": "s-MldkZzLGan"
      }
    },
    {
      "cell_type": "code",
      "source": [
        "import string\n",
        "def is_palindrome(input_string):\n",
        "     input_string=input_string.lower()\n",
        "     input_string=' '.join(char for char in input_string if char.isalnum())\n",
        "     return input_string==input_string[::-1]\n",
        "input_string=\"racecar\"\n",
        "if is_palindrome(input_string):\n",
        "  print(\"input string is palindrome.\")\n",
        "else:\n",
        "  print(\"input string is not a palindrome.\")"
      ],
      "metadata": {
        "colab": {
          "base_uri": "https://localhost:8080/"
        },
        "id": "6la5H7ypLMD2",
        "outputId": "d572cafd-1b55-440c-9e47-e51ddda33a75"
      },
      "execution_count": null,
      "outputs": [
        {
          "output_type": "stream",
          "name": "stdout",
          "text": [
            "input string is palindrome.\n"
          ]
        }
      ]
    },
    {
      "cell_type": "code",
      "source": [],
      "metadata": {
        "id": "tqYONpiwN_UJ"
      },
      "execution_count": null,
      "outputs": []
    }
  ]
}